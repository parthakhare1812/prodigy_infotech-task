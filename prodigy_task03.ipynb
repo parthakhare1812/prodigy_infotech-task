{
  "nbformat": 4,
  "nbformat_minor": 0,
  "metadata": {
    "colab": {
      "provenance": []
    },
    "kernelspec": {
      "name": "python3",
      "display_name": "Python 3"
    },
    "language_info": {
      "name": "python"
    }
  },
  "cells": [
    {
      "cell_type": "code",
      "execution_count": 1,
      "metadata": {
        "id": "S_OlG-zw1MoJ"
      },
      "outputs": [],
      "source": [
        "import random\n",
        "from collections import defaultdict\n",
        "\n",
        "class MarkovChainTextGenerator:\n",
        "    def __init__(self):\n",
        "        self.model = defaultdict(list)\n",
        "\n",
        "    def train(self, text):\n",
        "        words = text.split()\n",
        "        for i in range(len(words) - 1):\n",
        "            self.model[words[i]].append(words[i + 1])\n",
        "\n",
        "    def generate_text(self, start_word, length=50):\n",
        "        if start_word not in self.model:\n",
        "            return \"Start word not found in training data.\"\n",
        "\n",
        "        word = start_word\n",
        "        result = [word]\n",
        "\n",
        "        for _ in range(length - 1):\n",
        "            next_words = self.model.get(word)\n",
        "            if not next_words:\n",
        "                break\n",
        "            word = random.choice(next_words)\n",
        "            result.append(word)\n",
        "\n",
        "        return ' '.join(result)\n"
      ]
    },
    {
      "cell_type": "code",
      "source": [
        "# Sample training text\n",
        "sample_text = \"\"\"Markov chains are mathematical systems that hop from one state to another.\n",
        "They are used in a variety of fields, including statistics, game theory, and text generation.\"\"\"\n",
        "\n",
        "# Initialize and train the model\n",
        "generator = MarkovChainTextGenerator()\n",
        "generator.train(sample_text)\n",
        "\n",
        "# Generate text\n",
        "generated = generator.generate_text(\"Markov\", 30)\n",
        "print(\"Generated Text:\\n\", generated)\n"
      ],
      "metadata": {
        "colab": {
          "base_uri": "https://localhost:8080/"
        },
        "id": "5SrZpuHm1dcg",
        "outputId": "0cb70cc9-9d82-4f38-8ec1-b4a1823b3e99"
      },
      "execution_count": 2,
      "outputs": [
        {
          "output_type": "stream",
          "name": "stdout",
          "text": [
            "Generated Text:\n",
            " Markov chains are mathematical systems that hop from one state to another. They are used in a variety of fields, including statistics, game theory, and text generation.\n"
          ]
        }
      ]
    }
  ]
}